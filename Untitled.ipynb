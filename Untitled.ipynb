{
 "cells": [
  {
   "cell_type": "code",
   "execution_count": 5,
   "metadata": {},
   "outputs": [
    {
     "name": "stdout",
     "output_type": "stream",
     "text": [
      "what room are you going to:a\n"
     ]
    }
   ],
   "source": [
    "basket_counter = 1\n",
    "egg_counter = 3\n",
    "def check_basket():\n",
    "    if current_room in basket_room:\n",
    "        basket_counter = 1\n",
    "        print (\"You found the basket, now go get those eggs\")\n",
    "    \n",
    "def check_egg():\n",
    "    if current_room in egg_rooms and basket_counter == 1:\n",
    "        egg_counter+= 1\n",
    "        egg_rooms.remove(current_room)\n",
    "        print(\"You collected an egg!\")\n",
    "    elif current_room and basket_counter == 0:\n",
    "        print(\"You found an egg, but you need the basket first!\")\n",
    "    \n",
    "def win_game():\n",
    "    if basket_counter is 1 and egg_counter is 3:\n",
    "        print (\"Congratulations you have won the game. Now go play a real game like Call of Duty!\")\n",
    "        break"
   ]
  },
  {
   "cell_type": "code",
   "execution_count": null,
   "metadata": {
    "collapsed": true
   },
   "outputs": [],
   "source": []
  }
 ],
 "metadata": {
  "kernelspec": {
   "display_name": "Python 3",
   "language": "python",
   "name": "python3"
  },
  "language_info": {
   "codemirror_mode": {
    "name": "ipython",
    "version": 3
   },
   "file_extension": ".py",
   "mimetype": "text/x-python",
   "name": "python",
   "nbconvert_exporter": "python",
   "pygments_lexer": "ipython3",
   "version": "3.6.2"
  }
 },
 "nbformat": 4,
 "nbformat_minor": 2
}
